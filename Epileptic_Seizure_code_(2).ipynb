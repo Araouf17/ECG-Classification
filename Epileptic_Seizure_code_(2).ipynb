{
 "cells": [
  {
   "cell_type": "code",
   "execution_count": 13,
   "metadata": {
    "id": "qXVdWenroGNX"
   },
   "outputs": [],
   "source": [
    "import os\n",
    "import pandas as pd\n",
    "import glob\n",
    "from sklearn import preprocessing\n",
    "from sklearn.preprocessing import MinMaxScaler\n",
    "from sklearn.model_selection import TimeSeriesSplit\n",
    "from sklearn.neighbors import KNeighborsClassifier\n",
    "from sklearn.model_selection import train_test_split ,cross_val_score\n",
    "from sklearn.metrics import classification_report, plot_confusion_matrix, confusion_matrix\n",
    "import matplotlib.pyplot as plt\n",
    "from sklearn.model_selection import StratifiedShuffleSplit\n",
    "from sklearn.svm import SVC\n",
    "from sklearn.tree import DecisionTreeClassifier\n",
    "from sklearn.ensemble import RandomForestClassifier\n",
    "\n"
   ]
  },
  {
   "cell_type": "code",
   "execution_count": 14,
   "metadata": {
    "colab": {
     "base_uri": "https://localhost:8080/",
     "height": 235
    },
    "id": "uyCKWSJ3oGNb",
    "outputId": "6331173f-e8e4-4b88-d563-bce5f288ab03"
   },
   "outputs": [
    {
     "data": {
      "text/html": [
       "<div>\n",
       "<style scoped>\n",
       "    .dataframe tbody tr th:only-of-type {\n",
       "        vertical-align: middle;\n",
       "    }\n",
       "\n",
       "    .dataframe tbody tr th {\n",
       "        vertical-align: top;\n",
       "    }\n",
       "\n",
       "    .dataframe thead th {\n",
       "        text-align: right;\n",
       "    }\n",
       "</style>\n",
       "<table border=\"1\" class=\"dataframe\">\n",
       "  <thead>\n",
       "    <tr style=\"text-align: right;\">\n",
       "      <th></th>\n",
       "      <th>Unnamed</th>\n",
       "      <th>X1</th>\n",
       "      <th>X2</th>\n",
       "      <th>X3</th>\n",
       "      <th>X4</th>\n",
       "      <th>X5</th>\n",
       "      <th>X6</th>\n",
       "      <th>X7</th>\n",
       "      <th>X8</th>\n",
       "      <th>X9</th>\n",
       "      <th>...</th>\n",
       "      <th>X170</th>\n",
       "      <th>X171</th>\n",
       "      <th>X172</th>\n",
       "      <th>X173</th>\n",
       "      <th>X174</th>\n",
       "      <th>X175</th>\n",
       "      <th>X176</th>\n",
       "      <th>X177</th>\n",
       "      <th>X178</th>\n",
       "      <th>y</th>\n",
       "    </tr>\n",
       "  </thead>\n",
       "  <tbody>\n",
       "    <tr>\n",
       "      <th>0</th>\n",
       "      <td>X21.V1.791</td>\n",
       "      <td>135</td>\n",
       "      <td>190</td>\n",
       "      <td>229</td>\n",
       "      <td>223</td>\n",
       "      <td>192</td>\n",
       "      <td>125</td>\n",
       "      <td>55</td>\n",
       "      <td>-9</td>\n",
       "      <td>-33</td>\n",
       "      <td>...</td>\n",
       "      <td>-17</td>\n",
       "      <td>-15</td>\n",
       "      <td>-31</td>\n",
       "      <td>-77</td>\n",
       "      <td>-103</td>\n",
       "      <td>-127</td>\n",
       "      <td>-116</td>\n",
       "      <td>-83</td>\n",
       "      <td>-51</td>\n",
       "      <td>4</td>\n",
       "    </tr>\n",
       "    <tr>\n",
       "      <th>1</th>\n",
       "      <td>X15.V1.924</td>\n",
       "      <td>386</td>\n",
       "      <td>382</td>\n",
       "      <td>356</td>\n",
       "      <td>331</td>\n",
       "      <td>320</td>\n",
       "      <td>315</td>\n",
       "      <td>307</td>\n",
       "      <td>272</td>\n",
       "      <td>244</td>\n",
       "      <td>...</td>\n",
       "      <td>164</td>\n",
       "      <td>150</td>\n",
       "      <td>146</td>\n",
       "      <td>152</td>\n",
       "      <td>157</td>\n",
       "      <td>156</td>\n",
       "      <td>154</td>\n",
       "      <td>143</td>\n",
       "      <td>129</td>\n",
       "      <td>1</td>\n",
       "    </tr>\n",
       "    <tr>\n",
       "      <th>2</th>\n",
       "      <td>X8.V1.1</td>\n",
       "      <td>-32</td>\n",
       "      <td>-39</td>\n",
       "      <td>-47</td>\n",
       "      <td>-37</td>\n",
       "      <td>-32</td>\n",
       "      <td>-36</td>\n",
       "      <td>-57</td>\n",
       "      <td>-73</td>\n",
       "      <td>-85</td>\n",
       "      <td>...</td>\n",
       "      <td>57</td>\n",
       "      <td>64</td>\n",
       "      <td>48</td>\n",
       "      <td>19</td>\n",
       "      <td>-12</td>\n",
       "      <td>-30</td>\n",
       "      <td>-35</td>\n",
       "      <td>-35</td>\n",
       "      <td>-36</td>\n",
       "      <td>5</td>\n",
       "    </tr>\n",
       "    <tr>\n",
       "      <th>3</th>\n",
       "      <td>X16.V1.60</td>\n",
       "      <td>-105</td>\n",
       "      <td>-101</td>\n",
       "      <td>-96</td>\n",
       "      <td>-92</td>\n",
       "      <td>-89</td>\n",
       "      <td>-95</td>\n",
       "      <td>-102</td>\n",
       "      <td>-100</td>\n",
       "      <td>-87</td>\n",
       "      <td>...</td>\n",
       "      <td>-82</td>\n",
       "      <td>-81</td>\n",
       "      <td>-80</td>\n",
       "      <td>-77</td>\n",
       "      <td>-85</td>\n",
       "      <td>-77</td>\n",
       "      <td>-72</td>\n",
       "      <td>-69</td>\n",
       "      <td>-65</td>\n",
       "      <td>5</td>\n",
       "    </tr>\n",
       "    <tr>\n",
       "      <th>4</th>\n",
       "      <td>X20.V1.54</td>\n",
       "      <td>-9</td>\n",
       "      <td>-65</td>\n",
       "      <td>-98</td>\n",
       "      <td>-102</td>\n",
       "      <td>-78</td>\n",
       "      <td>-48</td>\n",
       "      <td>-16</td>\n",
       "      <td>0</td>\n",
       "      <td>-21</td>\n",
       "      <td>...</td>\n",
       "      <td>4</td>\n",
       "      <td>2</td>\n",
       "      <td>-12</td>\n",
       "      <td>-32</td>\n",
       "      <td>-41</td>\n",
       "      <td>-65</td>\n",
       "      <td>-83</td>\n",
       "      <td>-89</td>\n",
       "      <td>-73</td>\n",
       "      <td>5</td>\n",
       "    </tr>\n",
       "  </tbody>\n",
       "</table>\n",
       "<p>5 rows × 180 columns</p>\n",
       "</div>"
      ],
      "text/plain": [
       "      Unnamed   X1   X2   X3   X4   X5   X6   X7   X8   X9  ...  X170  X171  \\\n",
       "0  X21.V1.791  135  190  229  223  192  125   55   -9  -33  ...   -17   -15   \n",
       "1  X15.V1.924  386  382  356  331  320  315  307  272  244  ...   164   150   \n",
       "2     X8.V1.1  -32  -39  -47  -37  -32  -36  -57  -73  -85  ...    57    64   \n",
       "3   X16.V1.60 -105 -101  -96  -92  -89  -95 -102 -100  -87  ...   -82   -81   \n",
       "4   X20.V1.54   -9  -65  -98 -102  -78  -48  -16    0  -21  ...     4     2   \n",
       "\n",
       "   X172  X173  X174  X175  X176  X177  X178  y  \n",
       "0   -31   -77  -103  -127  -116   -83   -51  4  \n",
       "1   146   152   157   156   154   143   129  1  \n",
       "2    48    19   -12   -30   -35   -35   -36  5  \n",
       "3   -80   -77   -85   -77   -72   -69   -65  5  \n",
       "4   -12   -32   -41   -65   -83   -89   -73  5  \n",
       "\n",
       "[5 rows x 180 columns]"
      ]
     },
     "execution_count": 14,
     "metadata": {},
     "output_type": "execute_result"
    }
   ],
   "source": [
    "\n",
    "df = pd.read_csv(\"Epileptic Seizure Recognition.csv\")\n",
    "df.head()\n",
    "\n"
   ]
  },
  {
   "cell_type": "code",
   "execution_count": null,
   "metadata": {
    "id": "vIxLrAvUoGNc"
   },
   "outputs": [],
   "source": []
  },
  {
   "cell_type": "code",
   "execution_count": 15,
   "metadata": {
    "colab": {
     "base_uri": "https://localhost:8080/"
    },
    "id": "jaKwAIlJoGNd",
    "outputId": "817fc06f-bb0c-40d7-9148-90e6c4aa6c01"
   },
   "outputs": [
    {
     "data": {
      "text/plain": [
       "Unnamed    0\n",
       "X1         0\n",
       "X2         0\n",
       "X3         0\n",
       "X4         0\n",
       "          ..\n",
       "X175       0\n",
       "X176       0\n",
       "X177       0\n",
       "X178       0\n",
       "y          0\n",
       "Length: 180, dtype: int64"
      ]
     },
     "execution_count": 15,
     "metadata": {},
     "output_type": "execute_result"
    }
   ],
   "source": [
    "df.isnull().sum()"
   ]
  },
  {
   "cell_type": "code",
   "execution_count": null,
   "metadata": {
    "id": "HQcPGYeOoGNd"
   },
   "outputs": [],
   "source": []
  },
  {
   "cell_type": "code",
   "execution_count": null,
   "metadata": {
    "id": "3BYxT73yoGNd"
   },
   "outputs": [],
   "source": []
  },
  {
   "cell_type": "code",
   "execution_count": 16,
   "metadata": {
    "id": "U8_-UbxcoGNe"
   },
   "outputs": [],
   "source": [
    "#label_encoder = preprocessing.LabelEncoder()\n",
    "#df['Direction']= label_encoder.fit_transform(df['Direction'])\n",
    "\n",
    "\n"
   ]
  },
  {
   "cell_type": "code",
   "execution_count": null,
   "metadata": {
    "id": "-asKS5BPoGNe"
   },
   "outputs": [],
   "source": []
  },
  {
   "cell_type": "code",
   "execution_count": null,
   "metadata": {
    "id": "d9kf30jjoGNf"
   },
   "outputs": [],
   "source": []
  },
  {
   "cell_type": "code",
   "execution_count": 17,
   "metadata": {
    "id": "ljuqMkJQoGNf"
   },
   "outputs": [],
   "source": [
    "columns = list(df.columns.values[1:-1])\n",
    "\n",
    "min_max = preprocessing.MinMaxScaler()\n",
    "df[columns] = min_max.fit_transform(df[columns])"
   ]
  },
  {
   "cell_type": "code",
   "execution_count": 18,
   "metadata": {
    "id": "WzyZdTOAoGNg",
    "outputId": "af4fe7fa-a901-4a30-dca0-90a1f9cb8237"
   },
   "outputs": [
    {
     "data": {
      "text/html": [
       "<div>\n",
       "<style scoped>\n",
       "    .dataframe tbody tr th:only-of-type {\n",
       "        vertical-align: middle;\n",
       "    }\n",
       "\n",
       "    .dataframe tbody tr th {\n",
       "        vertical-align: top;\n",
       "    }\n",
       "\n",
       "    .dataframe thead th {\n",
       "        text-align: right;\n",
       "    }\n",
       "</style>\n",
       "<table border=\"1\" class=\"dataframe\">\n",
       "  <thead>\n",
       "    <tr style=\"text-align: right;\">\n",
       "      <th></th>\n",
       "      <th>Unnamed</th>\n",
       "      <th>X1</th>\n",
       "      <th>X2</th>\n",
       "      <th>X3</th>\n",
       "      <th>X4</th>\n",
       "      <th>X5</th>\n",
       "      <th>X6</th>\n",
       "      <th>X7</th>\n",
       "      <th>X8</th>\n",
       "      <th>X9</th>\n",
       "      <th>...</th>\n",
       "      <th>X170</th>\n",
       "      <th>X171</th>\n",
       "      <th>X172</th>\n",
       "      <th>X173</th>\n",
       "      <th>X174</th>\n",
       "      <th>X175</th>\n",
       "      <th>X176</th>\n",
       "      <th>X177</th>\n",
       "      <th>X178</th>\n",
       "      <th>y</th>\n",
       "    </tr>\n",
       "  </thead>\n",
       "  <tbody>\n",
       "    <tr>\n",
       "      <th>0</th>\n",
       "      <td>X21.V1.791</td>\n",
       "      <td>0.553717</td>\n",
       "      <td>0.571107</td>\n",
       "      <td>0.584371</td>\n",
       "      <td>0.598207</td>\n",
       "      <td>0.599275</td>\n",
       "      <td>0.526728</td>\n",
       "      <td>0.486466</td>\n",
       "      <td>0.462484</td>\n",
       "      <td>0.464883</td>\n",
       "      <td>...</td>\n",
       "      <td>0.507684</td>\n",
       "      <td>0.554390</td>\n",
       "      <td>0.544073</td>\n",
       "      <td>0.521051</td>\n",
       "      <td>0.489858</td>\n",
       "      <td>0.454331</td>\n",
       "      <td>0.434953</td>\n",
       "      <td>0.435612</td>\n",
       "      <td>0.474893</td>\n",
       "      <td>0</td>\n",
       "    </tr>\n",
       "    <tr>\n",
       "      <th>1</th>\n",
       "      <td>X15.V1.924</td>\n",
       "      <td>0.624123</td>\n",
       "      <td>0.625176</td>\n",
       "      <td>0.620328</td>\n",
       "      <td>0.629447</td>\n",
       "      <td>0.637957</td>\n",
       "      <td>0.579905</td>\n",
       "      <td>0.551431</td>\n",
       "      <td>0.535948</td>\n",
       "      <td>0.536146</td>\n",
       "      <td>...</td>\n",
       "      <td>0.557355</td>\n",
       "      <td>0.603836</td>\n",
       "      <td>0.603850</td>\n",
       "      <td>0.593542</td>\n",
       "      <td>0.562101</td>\n",
       "      <td>0.528396</td>\n",
       "      <td>0.505486</td>\n",
       "      <td>0.495495</td>\n",
       "      <td>0.522970</td>\n",
       "      <td>1</td>\n",
       "    </tr>\n",
       "    <tr>\n",
       "      <th>2</th>\n",
       "      <td>X8.V1.1</td>\n",
       "      <td>0.506872</td>\n",
       "      <td>0.506618</td>\n",
       "      <td>0.506229</td>\n",
       "      <td>0.522997</td>\n",
       "      <td>0.531581</td>\n",
       "      <td>0.481668</td>\n",
       "      <td>0.457592</td>\n",
       "      <td>0.445752</td>\n",
       "      <td>0.451505</td>\n",
       "      <td>...</td>\n",
       "      <td>0.527991</td>\n",
       "      <td>0.578064</td>\n",
       "      <td>0.570753</td>\n",
       "      <td>0.551440</td>\n",
       "      <td>0.515143</td>\n",
       "      <td>0.479717</td>\n",
       "      <td>0.456113</td>\n",
       "      <td>0.448331</td>\n",
       "      <td>0.478900</td>\n",
       "      <td>0</td>\n",
       "    </tr>\n",
       "    <tr>\n",
       "      <th>3</th>\n",
       "      <td>X16.V1.60</td>\n",
       "      <td>0.486396</td>\n",
       "      <td>0.489158</td>\n",
       "      <td>0.492356</td>\n",
       "      <td>0.507087</td>\n",
       "      <td>0.514355</td>\n",
       "      <td>0.465155</td>\n",
       "      <td>0.445991</td>\n",
       "      <td>0.438693</td>\n",
       "      <td>0.450990</td>\n",
       "      <td>...</td>\n",
       "      <td>0.489846</td>\n",
       "      <td>0.534612</td>\n",
       "      <td>0.527524</td>\n",
       "      <td>0.521051</td>\n",
       "      <td>0.494860</td>\n",
       "      <td>0.467417</td>\n",
       "      <td>0.446447</td>\n",
       "      <td>0.439322</td>\n",
       "      <td>0.471154</td>\n",
       "      <td>0</td>\n",
       "    </tr>\n",
       "    <tr>\n",
       "      <th>4</th>\n",
       "      <td>X20.V1.54</td>\n",
       "      <td>0.513324</td>\n",
       "      <td>0.499296</td>\n",
       "      <td>0.491789</td>\n",
       "      <td>0.504194</td>\n",
       "      <td>0.517679</td>\n",
       "      <td>0.478310</td>\n",
       "      <td>0.468162</td>\n",
       "      <td>0.464837</td>\n",
       "      <td>0.467970</td>\n",
       "      <td>...</td>\n",
       "      <td>0.513447</td>\n",
       "      <td>0.559485</td>\n",
       "      <td>0.550490</td>\n",
       "      <td>0.535296</td>\n",
       "      <td>0.507085</td>\n",
       "      <td>0.470557</td>\n",
       "      <td>0.443574</td>\n",
       "      <td>0.434022</td>\n",
       "      <td>0.469017</td>\n",
       "      <td>0</td>\n",
       "    </tr>\n",
       "    <tr>\n",
       "      <th>...</th>\n",
       "      <td>...</td>\n",
       "      <td>...</td>\n",
       "      <td>...</td>\n",
       "      <td>...</td>\n",
       "      <td>...</td>\n",
       "      <td>...</td>\n",
       "      <td>...</td>\n",
       "      <td>...</td>\n",
       "      <td>...</td>\n",
       "      <td>...</td>\n",
       "      <td>...</td>\n",
       "      <td>...</td>\n",
       "      <td>...</td>\n",
       "      <td>...</td>\n",
       "      <td>...</td>\n",
       "      <td>...</td>\n",
       "      <td>...</td>\n",
       "      <td>...</td>\n",
       "      <td>...</td>\n",
       "      <td>...</td>\n",
       "      <td>...</td>\n",
       "    </tr>\n",
       "    <tr>\n",
       "      <th>11495</th>\n",
       "      <td>X22.V1.114</td>\n",
       "      <td>0.509677</td>\n",
       "      <td>0.511405</td>\n",
       "      <td>0.513024</td>\n",
       "      <td>0.526179</td>\n",
       "      <td>0.530372</td>\n",
       "      <td>0.479989</td>\n",
       "      <td>0.460686</td>\n",
       "      <td>0.453856</td>\n",
       "      <td>0.461796</td>\n",
       "      <td>...</td>\n",
       "      <td>0.516465</td>\n",
       "      <td>0.563680</td>\n",
       "      <td>0.558595</td>\n",
       "      <td>0.547009</td>\n",
       "      <td>0.518199</td>\n",
       "      <td>0.482858</td>\n",
       "      <td>0.455590</td>\n",
       "      <td>0.445151</td>\n",
       "      <td>0.475694</td>\n",
       "      <td>0</td>\n",
       "    </tr>\n",
       "    <tr>\n",
       "      <th>11496</th>\n",
       "      <td>X19.V1.354</td>\n",
       "      <td>0.502665</td>\n",
       "      <td>0.514503</td>\n",
       "      <td>0.527463</td>\n",
       "      <td>0.555973</td>\n",
       "      <td>0.583862</td>\n",
       "      <td>0.550798</td>\n",
       "      <td>0.535705</td>\n",
       "      <td>0.527582</td>\n",
       "      <td>0.523025</td>\n",
       "      <td>...</td>\n",
       "      <td>0.494512</td>\n",
       "      <td>0.548996</td>\n",
       "      <td>0.552178</td>\n",
       "      <td>0.549858</td>\n",
       "      <td>0.525979</td>\n",
       "      <td>0.500131</td>\n",
       "      <td>0.485371</td>\n",
       "      <td>0.488606</td>\n",
       "      <td>0.533921</td>\n",
       "      <td>1</td>\n",
       "    </tr>\n",
       "    <tr>\n",
       "      <th>11497</th>\n",
       "      <td>X8.V1.28</td>\n",
       "      <td>0.519776</td>\n",
       "      <td>0.519290</td>\n",
       "      <td>0.515855</td>\n",
       "      <td>0.529071</td>\n",
       "      <td>0.544273</td>\n",
       "      <td>0.499020</td>\n",
       "      <td>0.479247</td>\n",
       "      <td>0.462484</td>\n",
       "      <td>0.474402</td>\n",
       "      <td>...</td>\n",
       "      <td>0.494512</td>\n",
       "      <td>0.544501</td>\n",
       "      <td>0.533941</td>\n",
       "      <td>0.525799</td>\n",
       "      <td>0.499861</td>\n",
       "      <td>0.479717</td>\n",
       "      <td>0.464734</td>\n",
       "      <td>0.457340</td>\n",
       "      <td>0.486378</td>\n",
       "      <td>0</td>\n",
       "    </tr>\n",
       "    <tr>\n",
       "      <th>11498</th>\n",
       "      <td>X10.V1.932</td>\n",
       "      <td>0.504628</td>\n",
       "      <td>0.510560</td>\n",
       "      <td>0.516988</td>\n",
       "      <td>0.530229</td>\n",
       "      <td>0.540647</td>\n",
       "      <td>0.495102</td>\n",
       "      <td>0.474091</td>\n",
       "      <td>0.469804</td>\n",
       "      <td>0.479033</td>\n",
       "      <td>...</td>\n",
       "      <td>0.545554</td>\n",
       "      <td>0.599341</td>\n",
       "      <td>0.604525</td>\n",
       "      <td>0.590693</td>\n",
       "      <td>0.550709</td>\n",
       "      <td>0.510076</td>\n",
       "      <td>0.483020</td>\n",
       "      <td>0.473238</td>\n",
       "      <td>0.503205</td>\n",
       "      <td>0</td>\n",
       "    </tr>\n",
       "    <tr>\n",
       "      <th>11499</th>\n",
       "      <td>X16.V1.210</td>\n",
       "      <td>0.523983</td>\n",
       "      <td>0.529147</td>\n",
       "      <td>0.535674</td>\n",
       "      <td>0.554527</td>\n",
       "      <td>0.563614</td>\n",
       "      <td>0.509096</td>\n",
       "      <td>0.486208</td>\n",
       "      <td>0.476078</td>\n",
       "      <td>0.481348</td>\n",
       "      <td>...</td>\n",
       "      <td>0.496158</td>\n",
       "      <td>0.551393</td>\n",
       "      <td>0.553191</td>\n",
       "      <td>0.546059</td>\n",
       "      <td>0.519867</td>\n",
       "      <td>0.488616</td>\n",
       "      <td>0.464734</td>\n",
       "      <td>0.458135</td>\n",
       "      <td>0.493857</td>\n",
       "      <td>0</td>\n",
       "    </tr>\n",
       "  </tbody>\n",
       "</table>\n",
       "<p>11500 rows × 180 columns</p>\n",
       "</div>"
      ],
      "text/plain": [
       "          Unnamed        X1        X2        X3        X4        X5        X6  \\\n",
       "0      X21.V1.791  0.553717  0.571107  0.584371  0.598207  0.599275  0.526728   \n",
       "1      X15.V1.924  0.624123  0.625176  0.620328  0.629447  0.637957  0.579905   \n",
       "2         X8.V1.1  0.506872  0.506618  0.506229  0.522997  0.531581  0.481668   \n",
       "3       X16.V1.60  0.486396  0.489158  0.492356  0.507087  0.514355  0.465155   \n",
       "4       X20.V1.54  0.513324  0.499296  0.491789  0.504194  0.517679  0.478310   \n",
       "...           ...       ...       ...       ...       ...       ...       ...   \n",
       "11495  X22.V1.114  0.509677  0.511405  0.513024  0.526179  0.530372  0.479989   \n",
       "11496  X19.V1.354  0.502665  0.514503  0.527463  0.555973  0.583862  0.550798   \n",
       "11497    X8.V1.28  0.519776  0.519290  0.515855  0.529071  0.544273  0.499020   \n",
       "11498  X10.V1.932  0.504628  0.510560  0.516988  0.530229  0.540647  0.495102   \n",
       "11499  X16.V1.210  0.523983  0.529147  0.535674  0.554527  0.563614  0.509096   \n",
       "\n",
       "             X7        X8        X9  ...      X170      X171      X172  \\\n",
       "0      0.486466  0.462484  0.464883  ...  0.507684  0.554390  0.544073   \n",
       "1      0.551431  0.535948  0.536146  ...  0.557355  0.603836  0.603850   \n",
       "2      0.457592  0.445752  0.451505  ...  0.527991  0.578064  0.570753   \n",
       "3      0.445991  0.438693  0.450990  ...  0.489846  0.534612  0.527524   \n",
       "4      0.468162  0.464837  0.467970  ...  0.513447  0.559485  0.550490   \n",
       "...         ...       ...       ...  ...       ...       ...       ...   \n",
       "11495  0.460686  0.453856  0.461796  ...  0.516465  0.563680  0.558595   \n",
       "11496  0.535705  0.527582  0.523025  ...  0.494512  0.548996  0.552178   \n",
       "11497  0.479247  0.462484  0.474402  ...  0.494512  0.544501  0.533941   \n",
       "11498  0.474091  0.469804  0.479033  ...  0.545554  0.599341  0.604525   \n",
       "11499  0.486208  0.476078  0.481348  ...  0.496158  0.551393  0.553191   \n",
       "\n",
       "           X173      X174      X175      X176      X177      X178  y  \n",
       "0      0.521051  0.489858  0.454331  0.434953  0.435612  0.474893  0  \n",
       "1      0.593542  0.562101  0.528396  0.505486  0.495495  0.522970  1  \n",
       "2      0.551440  0.515143  0.479717  0.456113  0.448331  0.478900  0  \n",
       "3      0.521051  0.494860  0.467417  0.446447  0.439322  0.471154  0  \n",
       "4      0.535296  0.507085  0.470557  0.443574  0.434022  0.469017  0  \n",
       "...         ...       ...       ...       ...       ...       ... ..  \n",
       "11495  0.547009  0.518199  0.482858  0.455590  0.445151  0.475694  0  \n",
       "11496  0.549858  0.525979  0.500131  0.485371  0.488606  0.533921  1  \n",
       "11497  0.525799  0.499861  0.479717  0.464734  0.457340  0.486378  0  \n",
       "11498  0.590693  0.550709  0.510076  0.483020  0.473238  0.503205  0  \n",
       "11499  0.546059  0.519867  0.488616  0.464734  0.458135  0.493857  0  \n",
       "\n",
       "[11500 rows x 180 columns]"
      ]
     },
     "execution_count": 18,
     "metadata": {},
     "output_type": "execute_result"
    }
   ],
   "source": [
    "df['y'] = df['y'].replace([2,3,4,5],0)\n",
    "df"
   ]
  },
  {
   "cell_type": "code",
   "execution_count": 20,
   "metadata": {
    "colab": {
     "base_uri": "https://localhost:8080/",
     "height": 558
    },
    "id": "fsVO3pMxoGNg",
    "outputId": "50dabbf3-8f78-410b-ad5e-8861bad7179d"
   },
   "outputs": [
    {
     "name": "stdout",
     "output_type": "stream",
     "text": [
      "              precision    recall  f1-score   support\n",
      "\n",
      "           0       1.00      0.93      0.96      1980\n",
      "           1       0.69      0.99      0.82       320\n",
      "\n",
      "    accuracy                           0.94      2300\n",
      "   macro avg       0.85      0.96      0.89      2300\n",
      "weighted avg       0.96      0.94      0.94      2300\n",
      "\n"
     ]
    },
    {
     "data": {
      "image/png": "[encoded data removed]",
      "text/plain": [
       "<Figure size 432x288 with 2 Axes>"
      ]
     },
     "metadata": {
      "needs_background": "light"
     },
     "output_type": "display_data"
    }
   ],
   "source": [
    "x=df.drop(['y','Unnamed'], axis=1)\n",
    "y=df['y']\n",
    "\n",
    "x_train, x_test, y_train, y_test = train_test_split(x, y, test_size = 0.2, random_state = 42 ,stratify=y)\n",
    "#x_train, x_test, y_train, y_test = StratifiedShuffleSplit(n_splits=5, test_size=0.2, random_state=42)\n",
    "model=KNeighborsClassifier(n_neighbors=3)\n",
    "\n",
    "model.fit(x_train,y_train)\n",
    "y_pred = model.predict(x_test)\n",
    "plot_confusion_matrix(model, x_test, y_test)\n",
    "print(classification_report(y_pred, y_test))\n",
    "plt.title(\"KNN euclidean\")\n",
    "plt.show()\n"
   ]
  },
  {
   "cell_type": "code",
   "execution_count": null,
   "metadata": {
    "id": "P9Ftw3dFoGNh"
   },
   "outputs": [],
   "source": [
    "\n"
   ]
  },
  {
   "cell_type": "code",
   "execution_count": 24,
   "metadata": {
    "colab": {
     "base_uri": "https://localhost:8080/",
     "height": 558
    },
    "id": "cnoGKV2noGNh",
    "outputId": "3efc64c2-c4a4-4dda-9393-6ac836de00ec"
   },
   "outputs": [
    {
     "name": "stdout",
     "output_type": "stream",
     "text": [
      "              precision    recall  f1-score   support\n",
      "\n",
      "           0       1.00      0.94      0.97      2940\n",
      "           1       0.73      0.99      0.84       510\n",
      "\n",
      "    accuracy                           0.94      3450\n",
      "   macro avg       0.86      0.96      0.90      3450\n",
      "weighted avg       0.96      0.94      0.95      3450\n",
      "\n"
     ]
    },
    {
     "data": {
      "image/png": "[encoded data removed]",
      "text/plain": [
       "<Figure size 432x288 with 2 Axes>"
      ]
     },
     "metadata": {
      "needs_background": "light"
     },
     "output_type": "display_data"
    }
   ],
   "source": [
    "model1=KNeighborsClassifier(n_neighbors=1)\n",
    "\n",
    "model1.fit(x_train,y_train)\n",
    "y_pred1 = model1.predict(x_test)\n",
    "plot_confusion_matrix(model1, x_test, y_test)\n",
    "print(classification_report(y_pred1, y_test))\n",
    "plt.title(\"KNN euclidean\")\n",
    "plt.show()"
   ]
  },
  {
   "cell_type": "code",
   "execution_count": 21,
   "metadata": {
    "colab": {
     "base_uri": "https://localhost:8080/",
     "height": 558
    },
    "id": "kqkEVUrnoGNi",
    "outputId": "58a8c2f6-69a0-4ead-9cbd-bb9e632f60b8"
   },
   "outputs": [
    {
     "name": "stdout",
     "output_type": "stream",
     "text": [
      "              precision    recall  f1-score   support\n",
      "\n",
      "           0       0.96      0.96      0.96      1839\n",
      "           1       0.85      0.85      0.85       461\n",
      "\n",
      "    accuracy                           0.94      2300\n",
      "   macro avg       0.90      0.90      0.90      2300\n",
      "weighted avg       0.94      0.94      0.94      2300\n",
      "\n"
     ]
    },
    {
     "data": {
      "image/png": "[encoded data removed]",
      "text/plain": [
       "<Figure size 432x288 with 2 Axes>"
      ]
     },
     "metadata": {
      "needs_background": "light"
     },
     "output_type": "display_data"
    }
   ],
   "source": [
    "dt = DecisionTreeClassifier(random_state=42)\n",
    "dt = dt.fit(x_train, y_train)\n",
    "y_pred = dt.predict(x_test)\n",
    "print(classification_report(y_pred, y_test))\n",
    "plot_confusion_matrix(dt, x_test, y_test)\n",
    "plt.title(\"Decison Tree\")\n",
    "plt.show()"
   ]
  },
  {
   "cell_type": "code",
   "execution_count": 26,
   "metadata": {
    "id": "eA7kS1zmoGNi",
    "outputId": "389dd679-9093-4583-8314-4633d9cf4b3a"
   },
   "outputs": [
    {
     "name": "stdout",
     "output_type": "stream",
     "text": [
      "              precision    recall  f1-score   support\n",
      "\n",
      "           0       0.99      0.96      0.98      2854\n",
      "           1       0.83      0.97      0.89       596\n",
      "\n",
      "    accuracy                           0.96      3450\n",
      "   macro avg       0.91      0.96      0.93      3450\n",
      "weighted avg       0.97      0.96      0.96      3450\n",
      "\n"
     ]
    },
    {
     "data": {
      "image/png": "[encoded data removed]",
      "text/plain": [
       "<Figure size 432x288 with 2 Axes>"
      ]
     },
     "metadata": {
      "needs_background": "light"
     },
     "output_type": "display_data"
    }
   ],
   "source": [
    "rf = RandomForestClassifier(max_depth=10, random_state=42)\n",
    "\n",
    "rf.fit(x_train,y_train)\n",
    "y_pred2 = rf.predict(x_test)\n",
    "\n",
    "print(classification_report(y_pred2, y_test))\n",
    "\n",
    "plot_confusion_matrix(rf, x_test, y_test)\n",
    "plt.title(\"Random forest\")\n",
    "plt.show()"
   ]
  },
  {
   "cell_type": "code",
   "execution_count": 22,
   "metadata": {
    "id": "a9Y4w6z8oGNi"
   },
   "outputs": [],
   "source": [
    "from tensorflow.keras import Sequential,utils\n",
    "from tensorflow.keras.layers import Flatten, Dense, Conv1D, MaxPool1D, Dropout\n",
    "import seaborn as sns\n"
   ]
  },
  {
   "cell_type": "code",
   "execution_count": 23,
   "metadata": {
    "colab": {
     "base_uri": "https://localhost:8080/"
    },
    "id": "NRe-UI62oGNj",
    "outputId": "4969d581-fae8-4c8e-f09c-1db535555ec0"
   },
   "outputs": [
    {
     "name": "stdout",
     "output_type": "stream",
     "text": [
      "(11500, 180)\n",
      "Epoch 1/10\n",
      "252/252 [==============================] - 46s 177ms/step - loss: 0.4664 - accuracy: 0.8304\n",
      "Epoch 2/10\n",
      "252/252 [==============================] - 44s 175ms/step - loss: 0.1998 - accuracy: 0.9360\n",
      "Epoch 3/10\n",
      "252/252 [==============================] - 43s 172ms/step - loss: 0.1571 - accuracy: 0.9453\n",
      "Epoch 4/10\n",
      "252/252 [==============================] - 44s 176ms/step - loss: 0.1414 - accuracy: 0.9514\n",
      "Epoch 5/10\n",
      "252/252 [==============================] - 43s 171ms/step - loss: 0.1393 - accuracy: 0.9522\n",
      "Epoch 6/10\n",
      "252/252 [==============================] - 45s 178ms/step - loss: 0.1168 - accuracy: 0.9596\n",
      "Epoch 7/10\n",
      "252/252 [==============================] - 43s 172ms/step - loss: 0.1106 - accuracy: 0.9620\n",
      "Epoch 8/10\n",
      "252/252 [==============================] - 44s 175ms/step - loss: 0.1029 - accuracy: 0.9642\n",
      "Epoch 9/10\n",
      "252/252 [==============================] - 44s 174ms/step - loss: 0.0910 - accuracy: 0.9675\n",
      "Epoch 10/10\n",
      "252/252 [==============================] - 44s 174ms/step - loss: 0.0901 - accuracy: 0.9686\n"
     ]
    }
   ],
   "source": [
    "print(df.shape)\n",
    "\n",
    "x=df.drop(['y','Unnamed'], axis=1)\n",
    "y=df['y']\n",
    "\n",
    "x_train,x_test,y_train,y_test= train_test_split(x,y,random_state=17,test_size=0.3)\n",
    "\n",
    "CNN_Model = Sequential()\n",
    "\n",
    "CNN_Model.add(Conv1D(filters=32, kernel_size=(3,), padding='same', activation='relu', input_shape = (x_train.shape[1],1)))\n",
    "CNN_Model.add(Conv1D(filters=64, kernel_size=(3,), padding='same', activation='relu')) \n",
    "CNN_Model.add(Conv1D(filters=128, kernel_size=(5,), padding='same', activation='relu'))    \n",
    "\n",
    "CNN_Model.add(MaxPool1D(pool_size=(3,), strides=2, padding='same'))\n",
    "CNN_Model.add(Dropout(0.5))\n",
    "\n",
    "CNN_Model.add(Flatten())\n",
    "\n",
    "CNN_Model.add(Dense(units = 512, activation='relu'))\n",
    "CNN_Model.add(Dense(units = 1024, activation='relu'))\n",
    "CNN_Model.add(Dense(units = 6, activation='softmax'))\n",
    "\n",
    "CNN_Model.compile(optimizer='adam', loss = 'sparse_categorical_crossentropy', metrics=['accuracy'])\n",
    "\n",
    "Epochs = CNN_Model.fit(x_train, y_train, epochs = 10)"
   ]
  },
  {
   "cell_type": "code",
   "execution_count": null,
   "metadata": {
    "id": "t0dKMc2ooGNj"
   },
   "outputs": [],
   "source": []
  },
  {
   "cell_type": "code",
   "execution_count": null,
   "metadata": {
    "id": "Z3k-rPAxoGNj"
   },
   "outputs": [],
   "source": []
  }
 ],
 "metadata": {
  "colab": {
   "collapsed_sections": [],
   "name": "Epileptic Seizure code (1).ipynb",
   "provenance": []
  },
  "kernelspec": {
   "display_name": "Python 3",
   "language": "python",
   "name": "python3"
  },
  "language_info": {
   "codemirror_mode": {
    "name": "ipython",
    "version": 3
   },
   "file_extension": ".py",
   "mimetype": "text/x-python",
   "name": "python",
   "nbconvert_exporter": "python",
   "pygments_lexer": "ipython3",
   "version": "3.8.5"
  }
 },
 "nbformat": 4,
 "nbformat_minor": 1
}
